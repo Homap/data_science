{
 "cells": [
  {
   "cell_type": "markdown",
   "metadata": {},
   "source": [
    "# Regular expressions in Python\n",
    "\n",
    "### Sources\n",
    "\n",
    "Python for Biologists - Martin Jones, Chapter 7: Regular expressions (Pages 149 - 178)\n",
    "\n",
    "[Regular expressions in genomics](https://towardsdatascience.com/using-regular-expression-in-genetics-with-python-175e2b9395c2)\n",
    "\n",
    "## What are regular expressions (Regex)?\n",
    "RegEx is a sequence of characters that define search patterns."
   ]
  },
  {
   "cell_type": "markdown",
   "metadata": {},
   "source": [
    "## Common regular expression syntax :\n",
    "Source: [Regular expressions in genomics](https://towardsdatascience.com/using-regular-expression-in-genetics-with-python-175e2b9395c2)\n",
    "\n",
    "| Syntax | Description|\n",
    "| --- | --- |\n",
    "| . | Matches any single character |\n",
    "| ^ | Anchor; matches from the start of a string |\n",
    "| $ | Anchor; matches at the end of a string |\n",
    "| \\ | Escape character |\n",
    "| &#124; | Pipe character OR; C&#124;T will match C or T |\n",
    "| * | Matches zero or more repetitions of the previous character, GGGA*TTT matches GGGTTT and GGGATTT and GGGAATTT, etc |\n",
    "| + | Matches one ore more repetitions of the previous character, GGGA+TTT matches GGGATTT and GGGAATTT, etc. |\n",
    "| ? | Matches zero or one reptition of the previous character, GAT?C means that T is optional, matches GAC or GATC |\n",
    "| {n} | Quantifier; matches n repetitions of the previous character |\n",
    "| {n,x} | Quantifer; matches n to x repetitions of the previous character |\n",
    "| [ ] | Character group; e.g. [AGCT] will match the characters AGCT |\n",
    "| [^] | Negated character group e.g. [^AGCT] will match any characters not in this group |\n",
    "| ( ) | Matches the pattern specified in the parentheses exactly |\n",
    "\n"
   ]
  },
  {
   "cell_type": "code",
   "execution_count": 1,
   "metadata": {
    "collapsed": true
   },
   "outputs": [],
   "source": [
    "import re"
   ]
  },
  {
   "cell_type": "markdown",
   "metadata": {},
   "source": [
    "## Raw strings\n",
    "\n",
    "Writing regular expressions requires us to type a lot of special characters. \n",
    "\n",
    "If we put the letter `r` immediately before the opening quotation mark, then any special characters inside the string are ignored:"
   ]
  },
  {
   "cell_type": "code",
   "execution_count": 2,
   "metadata": {
    "collapsed": false
   },
   "outputs": [
    {
     "name": "stdout",
     "output_type": "stream",
     "text": [
      "\\t\\n\n"
     ]
    }
   ],
   "source": [
    "print(r\"\\t\\n\")"
   ]
  },
  {
   "cell_type": "markdown",
   "metadata": {},
   "source": [
    "The `r` stands for *raw*, which is Python's description for a string where special characters are ignored. "
   ]
  },
  {
   "cell_type": "markdown",
   "metadata": {},
   "source": [
    "## Exercises"
   ]
  },
  {
   "cell_type": "markdown",
   "metadata": {},
   "source": [
    "1.Use `re.search()` to test whether or not the DNA sequence `dna = \"ATCGCGAATTCAC\"` contains an EcoRI restriction site. The EcoRI recognition sequence is `GAATTC`."
   ]
  },
  {
   "cell_type": "markdown",
   "metadata": {},
   "source": [
    "2.Use `re.search()` and pipe syntax `|` to test whether or not the DNA sequence `dna = \"ATCGCGAATTCAC\"` contains AvaII recognition site. AvaII can have two different sequences, `GGACC` and `GGTCC`."
   ]
  },
  {
   "cell_type": "markdown",
   "metadata": {},
   "source": [
    "3.Use `re.search()` and character group `[]` to test whether or not the DNA sequence `dna = \"ATCGCGAATTCACGCTGC\"` contains the recognition site for BisI. The BisI restriction enzyme cuts at an even wider range of motifs. The pattern is `GCNGC`. Can you use another Regex syntax for this exercise instead of `[]`? What is the downside of using this latter syntax?"
   ]
  },
  {
   "cell_type": "markdown",
   "metadata": {},
   "source": [
    "4.Write a pattern to identify full-length eukaryotic messenger RNA sequences?\n",
    "Imagine the sequence of eukaryotic messenger RNA looks like this:\n",
    "It starts with `AUG`, it then contains the bases `AUGC` between for example, 30 to 1000, and it ends with the infamous poly-A tail which contains between 5 to 10 adenine nucleotides."
   ]
  },
  {
   "cell_type": "markdown",
   "metadata": {},
   "source": [
    "5.What is the type of the output of the `re.search()`? What is the method that we can use to extract the part of the string that matched?"
   ]
  },
  {
   "cell_type": "markdown",
   "metadata": {},
   "source": [
    "6.In the following DNA sequence, dna = \"ATGACGTACGTACGACTG\", the match object is stored in the variable  \n",
    "`m = re.search(r\"GA[ATGC]{3}AC\", dna)`, use the appropriate method to extract the matched string from dna?"
   ]
  },
  {
   "cell_type": "markdown",
   "metadata": {},
   "source": [
    "7.In this DNA sequence, dna = \"ATGACGTACGTACGACTG\", do the following:\n",
    "Use `re.search()` with the suitable regex to find the following pattern:\n",
    "A sequence that starts with GA, then can have any of the A, T,G, C nucleotides up to 3 times, \n",
    "then has the fixed character AC and then can have any of the A, T, G, C nucleotides up to 2 times, and ends with AC.\n",
    "\n",
    "Use the appropriate method to extract:\n",
    "\n",
    "7A. The eniter match\n",
    "\n",
    "7B. The first bit of the match\n",
    "\n",
    "7C. The second bit of the match"
   ]
  },
  {
   "cell_type": "markdown",
   "metadata": {},
   "source": [
    "8.In this DNA sequence, dna = \"ATGACGTACGTACGACTG\", do the following:\n",
    "Using the same regex constructed in question 7, use the appropriate methods to obtain the start and end positions of the matched pattern in the string?"
   ]
  },
  {
   "cell_type": "markdown",
   "metadata": {},
   "source": [
    "9.In this DNA sequence, dna = \"ACTNGCATRGCTACGTYACGATSCGAWTCG\", we have several IUPAC code indicating missing data or mutations in our DNA such as N, R, Y, etc. We want the list of DNA segments that occure between the IUPAC codes, that is:\n",
    "['ACT', 'GCAT', 'GCTACGT', 'ACGAT', 'CGA', 'TCG']\n",
    "how could we achieve this?"
   ]
  },
  {
   "cell_type": "markdown",
   "metadata": {},
   "source": [
    "10.Let's find every place in the DNA that is AT or GC rich. \n",
    "Define a DNA and find all runs of A and T in a DNA sequence longer than 3 bases."
   ]
  },
  {
   "cell_type": "markdown",
   "metadata": {},
   "source": [
    "11.Define a DNA and find all runs of A and T in a DNA sequence longer than 5 bases and report back the position of the start and end of the matched sequence."
   ]
  },
  {
   "cell_type": "markdown",
   "metadata": {},
   "source": [
    "12.Given the accession names as below:\n",
    "\n",
    "accs = [\"xkn59438\", \"yhdck2\", \"eihd39d9\", \"chdsye847\", \"hedle3455\", \"xjhd53e\", \"45da\", \"de37dp\"]\n",
    "\n",
    "Write a program that will print only the accession names that satisfy the following criteria:\n",
    "\n",
    "* contain the number 5\n",
    "* contain the letter d or e\n",
    "* contain the letters d and e in that order\n",
    "* contain the letters d and e in that order with a single letter between them\n",
    "* contain both the letters d and e in any order\n",
    "* start with x or y\n",
    "* start with x or y and end with e\n",
    "* contain three or more numbers in a row\n",
    "* end with d followed by either a, r or p"
   ]
  },
  {
   "cell_type": "markdown",
   "metadata": {},
   "source": [
    "13.Use the HTT.fasta to explore the problem in [Regular expressions in genomics](https://towardsdatascience.com/using-regular-expression-in-genetics-with-python-175e2b9395c2)"
   ]
  },
  {
   "cell_type": "code",
   "execution_count": null,
   "metadata": {
    "collapsed": true
   },
   "outputs": [],
   "source": []
  }
 ],
 "metadata": {
  "anaconda-cloud": {},
  "kernelspec": {
   "display_name": "Python [miniconda3]",
   "language": "python",
   "name": "Python [miniconda3]"
  },
  "language_info": {
   "codemirror_mode": {
    "name": "ipython",
    "version": 3
   },
   "file_extension": ".py",
   "mimetype": "text/x-python",
   "name": "python",
   "nbconvert_exporter": "python",
   "pygments_lexer": "ipython3",
   "version": "3.6.7"
  }
 },
 "nbformat": 4,
 "nbformat_minor": 2
}
