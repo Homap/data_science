{
 "cells": [
  {
   "cell_type": "markdown",
   "metadata": {},
   "source": [
    "# Regular expressions in Python\n",
    "\n",
    "### Sources\n",
    "\n",
    "Python for Biologists - Martin Jones, Chapter 7: Regular expressions (Pages 149 - 178)\n",
    "\n",
    "[Regular expressions in genomics](https://towardsdatascience.com/using-regular-expression-in-genetics-with-python-175e2b9395c2)\n",
    "\n",
    "## What are regular expressions (Regex)?\n",
    "RegEx is a sequence of characters that define search patterns."
   ]
  },
  {
   "cell_type": "markdown",
   "metadata": {},
   "source": [
    "## Common regular expression syntax :\n",
    "Source: [Regular expressions in genomics](https://towardsdatascience.com/using-regular-expression-in-genetics-with-python-175e2b9395c2)\n",
    "\n",
    "| Syntax | Description|\n",
    "| --- | --- |\n",
    "| . | Matches any single character |\n",
    "| ^ | Anchor; matches from the start of a string |\n",
    "| $ | Anchor; matches at the end of a string |\n",
    "| \\ | Escape character |\n",
    "| &#124; | Pipe character OR; C&#124;T will match C or T |\n",
    "| * | Matches zero or more repetitions of the previous character, GGGA*TTT matches GGGTTT and GGGATTT and GGGAATTT, etc |\n",
    "| + | Matches one ore more repetitions of the previous character, GGGA+TTT matches GGGATTT and GGGAATTT, etc. |\n",
    "| ? | Matches zero or one reptition of the previous character, GAT?C means that T is optional, matches GAC or GATC |\n",
    "| {n} | Quantifier; matches n repetitions of the previous character |\n",
    "| {n,x} | Quantifer; matches n to x repetitions of the previous character |\n",
    "| [ ] | Character group; e.g. [AGCT] will match the characters AGCT |\n",
    "| [^] | Negated character group e.g. [^AGCT] will match any characters not in this group |\n",
    "| ( ) | Matches the pattern specified in the parentheses exactly |\n",
    "\n"
   ]
  },
  {
   "cell_type": "code",
   "execution_count": 1,
   "metadata": {
    "collapsed": true
   },
   "outputs": [],
   "source": [
    "import re"
   ]
  },
  {
   "cell_type": "markdown",
   "metadata": {},
   "source": [
    "## Raw strings\n",
    "\n",
    "Writing regular expressions requires us to type a lot of special characters. \n",
    "\n",
    "If we put the letter `r` immediately before the opening quotation mark, then any special characters inside the string are ignored:"
   ]
  },
  {
   "cell_type": "code",
   "execution_count": 6,
   "metadata": {
    "collapsed": false
   },
   "outputs": [
    {
     "name": "stdout",
     "output_type": "stream",
     "text": [
      "\\t\\n\n"
     ]
    }
   ],
   "source": [
    "print(r\"\\t\\n\")"
   ]
  },
  {
   "cell_type": "markdown",
   "metadata": {},
   "source": [
    "The `r` stands for *raw*, which is Python's description for a string where special characters are ignored. "
   ]
  },
  {
   "cell_type": "markdown",
   "metadata": {},
   "source": [
    "## Exercises"
   ]
  },
  {
   "cell_type": "markdown",
   "metadata": {},
   "source": [
    "1.Use `re.search()` to test whether or not the DNA sequence `dna = \"ATCGCGAATTCAC\"` contains an EcoRI restriction site. The EcoRI recognition sequence is `GAATTC`."
   ]
  },
  {
   "cell_type": "code",
   "execution_count": 7,
   "metadata": {
    "collapsed": false
   },
   "outputs": [
    {
     "name": "stdout",
     "output_type": "stream",
     "text": [
      "pattern is found\n"
     ]
    }
   ],
   "source": [
    "dna = \"ATCGCGAATTCAC\"\n",
    "pat = re.search(r\"GAATTC\", dna)\n",
    "if pat:\n",
    "    print(\"pattern is found\")"
   ]
  },
  {
   "cell_type": "markdown",
   "metadata": {},
   "source": [
    "2.Use `re.search()` and pipe syntax `|` to test whether or not the DNA sequence `dna = \"ATCGCGAATTCAC\"` contains AvaII recognition site. AvaII can have two different sequences, `GGACC` and `GGTCC`."
   ]
  },
  {
   "cell_type": "code",
   "execution_count": 15,
   "metadata": {
    "collapsed": false
   },
   "outputs": [
    {
     "name": "stdout",
     "output_type": "stream",
     "text": [
      "pattern is found\n",
      "pattern is found\n"
     ]
    }
   ],
   "source": [
    "dna = \"ATCGCGAATTCACGGACC\"\n",
    "pat = re.search(r\"(GG[AT]CC)\", dna)\n",
    "if pat:\n",
    "    print(\"pattern is found\")\n",
    "\n",
    "pat1 = re.search(r\"(GG(A|T)CC)\", dna)\n",
    "if pat1:\n",
    "    print(\"pattern is found\")"
   ]
  },
  {
   "cell_type": "markdown",
   "metadata": {},
   "source": [
    "3.Use `re.search()` and character group `[]` to test whether or not the DNA sequence `dna = \"ATCGCGAATTCACGCTGC\"` contains the recognition site for BisI. The BisI restriction enzyme cuts at an even wider range of motifs. The pattern is `GCNGC`. Can you use another Regex syntax for this exercise instead of `[]`? What is the downside of using this latter syntax?"
   ]
  },
  {
   "cell_type": "code",
   "execution_count": 25,
   "metadata": {
    "collapsed": false
   },
   "outputs": [
    {
     "name": "stdout",
     "output_type": "stream",
     "text": [
      "pattern is found\n",
      "pattern is found\n",
      "pattern is found\n",
      "pattern is found\n"
     ]
    }
   ],
   "source": [
    "# Proper way\n",
    "\n",
    "dna = \"ATCGCGAATTCACGCTGCGCAGCXN\"\n",
    "pat = re.search(r\"(GC[ATGC]GC)\", dna)\n",
    "if pat:\n",
    "    print(\"pattern is found\")\n",
    "    \n",
    "pat = re.search(r\"(GC(A|T|C|G)GC)\", dna)\n",
    "if pat:\n",
    "    print(\"pattern is found\")\n",
    "    \n",
    "# Other ways but in biological sequence context, you might get into trouble since you don't control for errors.\n",
    "pat = re.search(r\"(GC.GC)\", dna)\n",
    "if pat:\n",
    "    print(\"pattern is found\")\n",
    "\n",
    "pat = re.search(r\"(GC[^XN]GC)\", dna)\n",
    "if pat:\n",
    "    print(\"pattern is found\")"
   ]
  },
  {
   "cell_type": "markdown",
   "metadata": {},
   "source": [
    "4.Write a pattern to identify full-length eukaryotic messenger RNA sequences.\n",
    "\n",
    "Imagine the sequence of eukaryotic messenger RNA looks like this:\n",
    "It starts with `AUG`, it then contains the bases `AUGC` between for example, 30 to 1000, and it ends with the infamous poly-A tail which contains between 5 to 10 adenine nucleotides."
   ]
  },
  {
   "cell_type": "code",
   "execution_count": 26,
   "metadata": {
    "collapsed": true
   },
   "outputs": [],
   "source": [
    "pat = r\"(AUG[AUGC]{30, 1000}A{5, 10})\""
   ]
  },
  {
   "cell_type": "markdown",
   "metadata": {},
   "source": [
    "5.What is the type of the output of the `re.search()`? What is the method that we can use to extract the part of the string that matched?"
   ]
  },
  {
   "cell_type": "code",
   "execution_count": 33,
   "metadata": {
    "collapsed": false
   },
   "outputs": [
    {
     "name": "stdout",
     "output_type": "stream",
     "text": [
      "<class '_sre.SRE_Match'>\n",
      "<class 'int'>\n",
      "<class 'str'>\n",
      "<class 'float'>\n"
     ]
    }
   ],
   "source": [
    "dna = \"ATCGCGAATTCACGCTGCGCAGCXN\"\n",
    "pat = re.search(r\"(GC[ATGC]GC)\", dna)\n",
    "print(type(pat))\n",
    "print(type(2))\n",
    "print(type(\"Niki\"))\n",
    "print(type(3.2))\n",
    "\n",
    "# Answer: Match object\n",
    "# pat.group() is the method to extract the part of the string that matched."
   ]
  },
  {
   "cell_type": "markdown",
   "metadata": {},
   "source": [
    "6.In the following DNA sequence, dna = \"ATGACGTACGTACGACTG\", the match object is stored in the variable  \n",
    "`m = re.search(r\"GA[ATGC]{3}AC\", dna)`, use the appropriate method to extract the matched string from dna?"
   ]
  },
  {
   "cell_type": "code",
   "execution_count": 35,
   "metadata": {
    "collapsed": false
   },
   "outputs": [
    {
     "name": "stdout",
     "output_type": "stream",
     "text": [
      "GACGTAC\n"
     ]
    }
   ],
   "source": [
    "dna = \"ATGACGTACGTACGACTG\"\n",
    "m = re.search(r\"GA[ATGC]{3}AC\", dna)\n",
    "print(m.group())"
   ]
  },
  {
   "cell_type": "markdown",
   "metadata": {},
   "source": [
    "7.In this DNA sequence, dna = \"ATGACGTACGTACGACTG\", do the following:\n",
    "Use `re.search()` with the suitable regex to find the following pattern:\n",
    "A sequence that starts with GA, then can have any of the A, T,G, C nucleotides up to 3 times, \n",
    "then has the fixed character AC and then can have any of the A, T, G, C nucleotides up to 2 times, and ends with AC.\n",
    "\n",
    "Use the appropriate method to extract:\n",
    "\n",
    "7A. The eniter match\n",
    "\n",
    "7B. The first bit of the match\n",
    "\n",
    "7C. The second bit of the match"
   ]
  },
  {
   "cell_type": "code",
   "execution_count": 67,
   "metadata": {
    "collapsed": false
   },
   "outputs": [
    {
     "name": "stdout",
     "output_type": "stream",
     "text": [
      "GACGTACGTAC\n",
      "GACGT\n",
      "AC\n",
      "GTAC\n"
     ]
    }
   ],
   "source": [
    "dna = \"ATGACGTACGTACGACTG\"\n",
    "pat = r\"(GA[ATGC]{0,3})(AC)([ATGC]{0,2}AC)\"\n",
    "m = re.search(pat, dna)\n",
    "print(m.group())\n",
    "print(m.group(1))\n",
    "print(m.group(2))\n",
    "print(m.group(3))"
   ]
  },
  {
   "cell_type": "markdown",
   "metadata": {},
   "source": [
    "8.In this DNA sequence, dna = \"ATGACGTACGTACGACTG\", do the following:\n",
    "Using the same regex constructed in question 7, use the appropriate methods to obtain the start and end positions of the matched pattern in the string?"
   ]
  },
  {
   "cell_type": "code",
   "execution_count": 71,
   "metadata": {
    "collapsed": false
   },
   "outputs": [
    {
     "name": "stdout",
     "output_type": "stream",
     "text": [
      "start is  2\n",
      "end is  13\n",
      "start group 1 is  2\n",
      "end group 1 is  7\n",
      "start group 2 is  7\n",
      "end group 2 is  9\n"
     ]
    }
   ],
   "source": [
    "dna = \"ATGACGTACGTACGACTG\"\n",
    "pat = r\"(GA[ATGC]{0,3})(AC)([ATGC]{0,2}AC)\"\n",
    "m = re.search(pat, dna)\n",
    "print(\"start is \", m.start())\n",
    "print(\"end is \", m.end())\n",
    "print(\"start group 1 is \", m.start(1))\n",
    "print(\"end group 1 is \", m.end(1))\n",
    "print(\"start group 2 is \", m.start(2))\n",
    "print(\"end group 2 is \", m.end(2))"
   ]
  },
  {
   "cell_type": "markdown",
   "metadata": {},
   "source": [
    "9.In this DNA sequence, dna = \"ACTNGCATRGCTACGTYACGATSCGAWTCG\", we have several IUPAC code indicating missing data or mutations in our DNA such as N, R, Y, etc. We want the list of DNA segments that occur between the IUPAC codes, that is:\n",
    "['ACT', 'GCAT', 'GCTACGT', 'ACGAT', 'CGA', 'TCG']\n",
    "how could we achieve this?"
   ]
  },
  {
   "cell_type": "code",
   "execution_count": 89,
   "metadata": {
    "collapsed": false
   },
   "outputs": [
    {
     "name": "stdout",
     "output_type": "stream",
     "text": [
      "first way  ['ACT', 'GCAT', 'GCTACGT', 'ACGAT', 'CGA', 'TCG']\n",
      "second way  ['ACT', 'GCAT', 'GCTACGT', 'ACGAT', 'CGA', 'TCG']\n"
     ]
    }
   ],
   "source": [
    "dna = \"ACTNGCATRGCTACGTYACGATSCGAWTCG\"\n",
    "#?re.split()\n",
    "\n",
    "#re.split(pattern, string, maxsplit=0, flags=0)\n",
    "print(\"first way \", re.split(r\"[NYSWR]\", dna))\n",
    "print(\"second way \", re.split(r\"[^ATGC]\", dna)) #***\n",
    "\n",
    "#g = \"ATGCGT.TCGT\"\n",
    "#print(dna.split(\"N\")[1].split(\"Y\"))#.split(\"S\").split(\"W\").split(\"R\"))"
   ]
  },
  {
   "cell_type": "markdown",
   "metadata": {},
   "source": [
    "10.Let's find every place in the DNA that is AT or GC rich. \n",
    "Define a DNA and find all runs of A and T in a DNA sequence longer than 3 bases."
   ]
  },
  {
   "cell_type": "code",
   "execution_count": 107,
   "metadata": {
    "collapsed": false
   },
   "outputs": [
    {
     "data": {
      "text/plain": [
       "['TTTTTTTT', 'AAAAAAA', 'TTTTTTT', 'TTT']"
      ]
     },
     "execution_count": 107,
     "metadata": {},
     "output_type": "execute_result"
    }
   ],
   "source": [
    "dna = \"ACGTACATATATCACACGTATATATCACACTTTTTTTTAAGCAAAAAAATTTTTTTGCTTT\"\n",
    "#?re.findall()\n",
    "#re.findall(pattern, string, flags=0)\n",
    "\n",
    "# finds stretches of DNA containing A or/and T repeated for 3 or more times.\n",
    "re.findall(r\"[AT]{3,}\", dna)\n",
    "re.findall(r\"[A]{3,}|[T]{3,}\", dna)"
   ]
  },
  {
   "cell_type": "markdown",
   "metadata": {},
   "source": [
    "11.Define a DNA and find all runs of A and T in a DNA sequence longer than 5 bases and report back the position of the start and end of the matched sequence."
   ]
  },
  {
   "cell_type": "code",
   "execution_count": 122,
   "metadata": {
    "collapsed": false
   },
   "outputs": [
    {
     "name": "stdout",
     "output_type": "stream",
     "text": [
      "ATATAT 6 12\n",
      "TATATAT 18 25\n",
      "TTTTTTTTAA 30 40\n",
      "AAAAAAATTTTTTT 42 56\n",
      "TTT 58 61\n"
     ]
    }
   ],
   "source": [
    "#?re.finditer()\n",
    "# re.finditer(pattern, string, flags=0)\n",
    "# Return an iterator over all non-overlapping matches in the\n",
    "# string.  For each match, the iterator returns a match object.\n",
    "\n",
    "dna = \"ACGTACATATATCACACGTATATATCACACTTTTTTTTAAGCAAAAAAATTTTTTTGCTTT\"\n",
    "m = re.finditer(r\"[AT]{3,}\", dna)\n",
    "for match in m:\n",
    "    print(match.group(), match.start(), match.end())\n",
    "    \n",
    "#for i in range(1, 4):\n",
    "#    print(i)\n",
    "# re.finditer() returns a match object in contrast to re.finall() which returns \n",
    "# a list. Therefore, we can use match object methods such as group(), start()\n",
    "# and end() on the output of re.finditer()."
   ]
  },
  {
   "cell_type": "markdown",
   "metadata": {},
   "source": [
    "12.Given the accession names as below:\n",
    "\n",
    "accs = [\"xkn59438\", \"yhdck2\", \"eihd39d9\", \"chdsye847\", \"hedle3455\", \"xjhd53e\", \"45da\", \"de37dp\"]\n",
    "\n",
    "Write a program that will print only the accession names that satisfy the following criteria:\n",
    "\n",
    "* contain the number 5\n",
    "* contain the letter d or e\n",
    "* contain the letters d and e in that order\n",
    "* contain the letters d and e in that order with a single letter between them\n",
    "* contain both the letters d and e in any order\n",
    "* start with x or y\n",
    "* start with x or y and end with e\n",
    "* contain three or more numbers in a row\n",
    "* end with d followed by either a, r or p"
   ]
  },
  {
   "cell_type": "code",
   "execution_count": 149,
   "metadata": {
    "collapsed": false
   },
   "outputs": [
    {
     "name": "stdout",
     "output_type": "stream",
     "text": [
      "xkn59438 found\n",
      "hedle3455 found\n",
      "xjhd53e found\n",
      "45da found\n",
      "edhi found2\n",
      "yhdck2 found2\n",
      "eihd39d9 found2\n",
      "chdsye847 found2\n",
      "hedle3455 found2\n",
      "xjhd53e found2\n",
      "45da found2\n",
      "de37dp found2\n",
      "de37dp found3\n",
      "hedle3455 found4\n",
      "edhi found5\n",
      "eihd39d9 found5\n",
      "chdsye847 found5\n",
      "hedle3455 found5\n",
      "xjhd53e found5\n",
      "de37dp found5\n",
      "xkn59438 found6\n",
      "yhdck2 found6\n",
      "xjhd53e found6\n",
      "xjhd53e found7\n",
      "xkn59438 found8\n",
      "chdsye847 found8\n",
      "hedle3455 found8\n",
      "45da found9\n",
      "de37dp found9\n"
     ]
    }
   ],
   "source": [
    "accs = [\"edhi\",\"xkn59438\", \"yhdck2\", \"eihd39d9\", \"chdsye847\", \"hedle3455\", \"xjhd53e\", \"45da\", \"de37dp\"]\n",
    "# contain the number 5\n",
    "for i in accs:\n",
    "    if re.search(r\"5\", i):\n",
    "        print(i, \"found\")\n",
    "# contain the letter d or e\n",
    "for i in accs:\n",
    "    if re.search(r\"[d|e]\", i):\n",
    "        print(i, \"found2\")\n",
    "# contain the letters d and e in that order\n",
    "for i in accs:\n",
    "    if re.search(r\"(de)\", i):\n",
    "        print(i, \"found3\")\n",
    "# contain the letters d and e in that order with a single letter between them\n",
    "for i in accs:\n",
    "    if re.search(r\"(d[A-Z, a-z]{1}e)\", i):\n",
    "        print(i, \"found4\")\n",
    "# contain both the letters d and e in any order\n",
    "for i in accs:\n",
    "    if re.search(r\"(d.*e)|(e.*d)\", i):\n",
    "        print(i, \"found5\")\n",
    "# start with x or y\n",
    "for i in accs:\n",
    "    if re.search(r\"^[x|y]\", i):\n",
    "        print(i, \"found6\")\n",
    "# start with x or y and end with e\n",
    "for i in accs:\n",
    "    if re.search(r\"^[x|y].*e$\", i):\n",
    "        print(i, \"found7\")\n",
    "# contain three or more numbers in a row\n",
    "for i in accs:\n",
    "    if re.search(r\"[0-9]{3,}\", i):\n",
    "        print(i, \"found8\")\n",
    "# end with d followed by either a, r or p\n",
    "for i in accs:\n",
    "    if re.search(r\".*d[arp]$\", i):\n",
    "        print(i, \"found9\")"
   ]
  },
  {
   "cell_type": "markdown",
   "metadata": {},
   "source": [
    "13.Use the HTT.fasta to explore the problem in [Regular expressions in genomics](https://towardsdatascience.com/using-regular-expression-in-genetics-with-python-175e2b9395c2)"
   ]
  },
  {
   "cell_type": "code",
   "execution_count": null,
   "metadata": {
    "collapsed": true
   },
   "outputs": [],
   "source": []
  }
 ],
 "metadata": {
  "anaconda-cloud": {},
  "kernelspec": {
   "display_name": "Python [miniconda3]",
   "language": "python",
   "name": "Python [miniconda3]"
  },
  "language_info": {
   "codemirror_mode": {
    "name": "ipython",
    "version": 3
   },
   "file_extension": ".py",
   "mimetype": "text/x-python",
   "name": "python",
   "nbconvert_exporter": "python",
   "pygments_lexer": "ipython3",
   "version": "3.6.7"
  }
 },
 "nbformat": 4,
 "nbformat_minor": 2
}
