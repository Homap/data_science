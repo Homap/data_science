{
 "cells": [
  {
   "cell_type": "code",
   "execution_count": 1,
   "metadata": {
    "collapsed": false
   },
   "outputs": [
    {
     "name": "stdout",
     "output_type": "stream",
     "text": [
      "README.md                     fasta_exercise_goodheader.fa\r\n",
      "Untitled.ipynb                fasta_function.py\r\n",
      "correct_fasta_header.py       fasta_to_dict.py\r\n",
      "fasta_exercise.fa             multiline_fasta_to_dict.py\r\n"
     ]
    }
   ],
   "source": [
    "ls"
   ]
  },
  {
   "cell_type": "code",
   "execution_count": 10,
   "metadata": {
    "collapsed": false
   },
   "outputs": [],
   "source": [
    "!python correct_fasta_header.py fasta_exercise.fa > toto"
   ]
  },
  {
   "cell_type": "code",
   "execution_count": 12,
   "metadata": {
    "collapsed": false
   },
   "outputs": [
    {
     "name": "stdout",
     "output_type": "stream",
     "text": [
      ">seq1\n",
      "ACTGTGTGTGTACAGTGCA\n",
      ">seq2\n",
      "ACTGTGTGTGTACGT\n",
      ">seq3\n",
      "ACAACACGTGTGTTTTTTT\n"
     ]
    }
   ],
   "source": [
    "%run -i 'correct_fasta_header.py' fasta_exercise.fa > toto1"
   ]
  },
  {
   "cell_type": "code",
   "execution_count": null,
   "metadata": {
    "collapsed": true
   },
   "outputs": [],
   "source": []
  }
 ],
 "metadata": {
  "anaconda-cloud": {},
  "kernelspec": {
   "display_name": "Python [miniconda3]",
   "language": "python",
   "name": "Python [miniconda3]"
  },
  "language_info": {
   "codemirror_mode": {
    "name": "ipython",
    "version": 3
   },
   "file_extension": ".py",
   "mimetype": "text/x-python",
   "name": "python",
   "nbconvert_exporter": "python",
   "pygments_lexer": "ipython3",
   "version": "3.6.7"
  }
 },
 "nbformat": 4,
 "nbformat_minor": 2
}
