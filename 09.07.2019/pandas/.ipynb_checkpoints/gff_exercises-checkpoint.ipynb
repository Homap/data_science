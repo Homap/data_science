{
 "cells": [
  {
   "cell_type": "code",
   "execution_count": 1,
   "metadata": {
    "collapsed": true
   },
   "outputs": [],
   "source": [
    "import pandas as pd"
   ]
  },
  {
   "cell_type": "code",
   "execution_count": 2,
   "metadata": {
    "collapsed": true
   },
   "outputs": [],
   "source": [
    "col_names = ['seqid', 'source', 'type', 'start', 'end', 'score', 'strand', \n",
    "            'phase', 'attributes']\n",
    "df = pd.read_csv('Homo_sapiens.GRCh38.85.gff3.gz', compression='gzip', \n",
    "                sep='\\t', comment='#', low_memory=False,\n",
    "                header=None, names=col_names)"
   ]
  },
  {
   "cell_type": "code",
   "execution_count": 3,
   "metadata": {
    "collapsed": false
   },
   "outputs": [
    {
     "data": {
      "text/html": [
       "<div>\n",
       "<style scoped>\n",
       "    .dataframe tbody tr th:only-of-type {\n",
       "        vertical-align: middle;\n",
       "    }\n",
       "\n",
       "    .dataframe tbody tr th {\n",
       "        vertical-align: top;\n",
       "    }\n",
       "\n",
       "    .dataframe thead th {\n",
       "        text-align: right;\n",
       "    }\n",
       "</style>\n",
       "<table border=\"1\" class=\"dataframe\">\n",
       "  <thead>\n",
       "    <tr style=\"text-align: right;\">\n",
       "      <th></th>\n",
       "      <th>seqid</th>\n",
       "      <th>source</th>\n",
       "      <th>type</th>\n",
       "      <th>start</th>\n",
       "      <th>end</th>\n",
       "      <th>score</th>\n",
       "      <th>strand</th>\n",
       "      <th>phase</th>\n",
       "      <th>attributes</th>\n",
       "    </tr>\n",
       "  </thead>\n",
       "  <tbody>\n",
       "    <tr>\n",
       "      <th>0</th>\n",
       "      <td>1</td>\n",
       "      <td>GRCh38</td>\n",
       "      <td>chromosome</td>\n",
       "      <td>1</td>\n",
       "      <td>248956422</td>\n",
       "      <td>.</td>\n",
       "      <td>.</td>\n",
       "      <td>.</td>\n",
       "      <td>ID=chromosome:1;Alias=CM000663.2,chr1,NC_00000...</td>\n",
       "    </tr>\n",
       "    <tr>\n",
       "      <th>1</th>\n",
       "      <td>1</td>\n",
       "      <td>.</td>\n",
       "      <td>biological_region</td>\n",
       "      <td>10469</td>\n",
       "      <td>11240</td>\n",
       "      <td>1.3e+03</td>\n",
       "      <td>.</td>\n",
       "      <td>.</td>\n",
       "      <td>external_name=oe %3D 0.79;logic_name=cpg</td>\n",
       "    </tr>\n",
       "    <tr>\n",
       "      <th>2</th>\n",
       "      <td>1</td>\n",
       "      <td>.</td>\n",
       "      <td>biological_region</td>\n",
       "      <td>10650</td>\n",
       "      <td>10657</td>\n",
       "      <td>0.999</td>\n",
       "      <td>+</td>\n",
       "      <td>.</td>\n",
       "      <td>logic_name=eponine</td>\n",
       "    </tr>\n",
       "    <tr>\n",
       "      <th>3</th>\n",
       "      <td>1</td>\n",
       "      <td>.</td>\n",
       "      <td>biological_region</td>\n",
       "      <td>10655</td>\n",
       "      <td>10657</td>\n",
       "      <td>0.999</td>\n",
       "      <td>-</td>\n",
       "      <td>.</td>\n",
       "      <td>logic_name=eponine</td>\n",
       "    </tr>\n",
       "    <tr>\n",
       "      <th>4</th>\n",
       "      <td>1</td>\n",
       "      <td>.</td>\n",
       "      <td>biological_region</td>\n",
       "      <td>10678</td>\n",
       "      <td>10687</td>\n",
       "      <td>0.999</td>\n",
       "      <td>+</td>\n",
       "      <td>.</td>\n",
       "      <td>logic_name=eponine</td>\n",
       "    </tr>\n",
       "  </tbody>\n",
       "</table>\n",
       "</div>"
      ],
      "text/plain": [
       "  seqid  source               type  start        end    score strand phase  \\\n",
       "0     1  GRCh38         chromosome      1  248956422        .      .     .   \n",
       "1     1       .  biological_region  10469      11240  1.3e+03      .     .   \n",
       "2     1       .  biological_region  10650      10657    0.999      +     .   \n",
       "3     1       .  biological_region  10655      10657    0.999      -     .   \n",
       "4     1       .  biological_region  10678      10687    0.999      +     .   \n",
       "\n",
       "                                          attributes  \n",
       "0  ID=chromosome:1;Alias=CM000663.2,chr1,NC_00000...  \n",
       "1           external_name=oe %3D 0.79;logic_name=cpg  \n",
       "2                                 logic_name=eponine  \n",
       "3                                 logic_name=eponine  \n",
       "4                                 logic_name=eponine  "
      ]
     },
     "execution_count": 3,
     "metadata": {},
     "output_type": "execute_result"
    }
   ],
   "source": [
    "df.head()"
   ]
  },
  {
   "cell_type": "code",
   "execution_count": 4,
   "metadata": {
    "collapsed": false
   },
   "outputs": [
    {
     "name": "stdout",
     "output_type": "stream",
     "text": [
      "<class 'pandas.core.frame.DataFrame'>\n",
      "RangeIndex: 2601849 entries, 0 to 2601848\n",
      "Data columns (total 9 columns):\n",
      "seqid         object\n",
      "source        object\n",
      "type          object\n",
      "start         int64\n",
      "end           int64\n",
      "score         object\n",
      "strand        object\n",
      "phase         object\n",
      "attributes    object\n",
      "dtypes: int64(2), object(7)\n",
      "memory usage: 178.7+ MB\n"
     ]
    }
   ],
   "source": [
    "df.info()"
   ]
  },
  {
   "cell_type": "code",
   "execution_count": 5,
   "metadata": {
    "collapsed": true
   },
   "outputs": [],
   "source": [
    "# How many transcripts does a gene typically have? What percentage of genes have more than 1 transcript?\n",
    "# How many exons, CDS, and UTRs does a transcript typically have? What sizes are they?"
   ]
  },
  {
   "cell_type": "code",
   "execution_count": 6,
   "metadata": {
    "collapsed": false
   },
   "outputs": [
    {
     "data": {
      "text/plain": [
       "(194, 9)"
      ]
     },
     "execution_count": 6,
     "metadata": {},
     "output_type": "execute_result"
    }
   ],
   "source": [
    "gdf = df[df['source'] == 'GRCh38']\n",
    "gdf.shape"
   ]
  },
  {
   "cell_type": "code",
   "execution_count": 9,
   "metadata": {
    "collapsed": false
   },
   "outputs": [
    {
     "data": {
      "text/html": [
       "<div>\n",
       "<style scoped>\n",
       "    .dataframe tbody tr th:only-of-type {\n",
       "        vertical-align: middle;\n",
       "    }\n",
       "\n",
       "    .dataframe tbody tr th {\n",
       "        vertical-align: top;\n",
       "    }\n",
       "\n",
       "    .dataframe thead th {\n",
       "        text-align: right;\n",
       "    }\n",
       "</style>\n",
       "<table border=\"1\" class=\"dataframe\">\n",
       "  <thead>\n",
       "    <tr style=\"text-align: right;\">\n",
       "      <th></th>\n",
       "      <th>seqid</th>\n",
       "      <th>source</th>\n",
       "      <th>type</th>\n",
       "      <th>start</th>\n",
       "      <th>end</th>\n",
       "      <th>score</th>\n",
       "      <th>strand</th>\n",
       "      <th>phase</th>\n",
       "      <th>attributes</th>\n",
       "    </tr>\n",
       "  </thead>\n",
       "  <tbody>\n",
       "    <tr>\n",
       "      <th>1394083</th>\n",
       "      <td>2</td>\n",
       "      <td>ensembl_havana</td>\n",
       "      <td>exon</td>\n",
       "      <td>38781517</td>\n",
       "      <td>38785000</td>\n",
       "      <td>.</td>\n",
       "      <td>+</td>\n",
       "      <td>.</td>\n",
       "      <td>Parent=transcript:ENST00000281950;Name=ENSE000...</td>\n",
       "    </tr>\n",
       "    <tr>\n",
       "      <th>1131521</th>\n",
       "      <td>17</td>\n",
       "      <td>havana</td>\n",
       "      <td>CDS</td>\n",
       "      <td>75763014</td>\n",
       "      <td>75763149</td>\n",
       "      <td>.</td>\n",
       "      <td>-</td>\n",
       "      <td>2</td>\n",
       "      <td>ID=CDS:ENSP00000225614;Parent=transcript:ENST0...</td>\n",
       "    </tr>\n",
       "    <tr>\n",
       "      <th>335228</th>\n",
       "      <td>11</td>\n",
       "      <td>havana</td>\n",
       "      <td>exon</td>\n",
       "      <td>893427</td>\n",
       "      <td>893519</td>\n",
       "      <td>.</td>\n",
       "      <td>-</td>\n",
       "      <td>.</td>\n",
       "      <td>Parent=transcript:ENST00000526714;Name=ENSE000...</td>\n",
       "    </tr>\n",
       "    <tr>\n",
       "      <th>1811626</th>\n",
       "      <td>3</td>\n",
       "      <td>havana</td>\n",
       "      <td>three_prime_UTR</td>\n",
       "      <td>130999518</td>\n",
       "      <td>130999659</td>\n",
       "      <td>.</td>\n",
       "      <td>+</td>\n",
       "      <td>.</td>\n",
       "      <td>Parent=transcript:ENST00000507194</td>\n",
       "    </tr>\n",
       "    <tr>\n",
       "      <th>795321</th>\n",
       "      <td>15</td>\n",
       "      <td>ensembl_havana</td>\n",
       "      <td>CDS</td>\n",
       "      <td>43605264</td>\n",
       "      <td>43605399</td>\n",
       "      <td>.</td>\n",
       "      <td>-</td>\n",
       "      <td>1</td>\n",
       "      <td>ID=CDS:ENSP00000401513;Parent=transcript:ENST0...</td>\n",
       "    </tr>\n",
       "    <tr>\n",
       "      <th>2393736</th>\n",
       "      <td>8</td>\n",
       "      <td>ensembl</td>\n",
       "      <td>CDS</td>\n",
       "      <td>120371152</td>\n",
       "      <td>120371231</td>\n",
       "      <td>.</td>\n",
       "      <td>+</td>\n",
       "      <td>2</td>\n",
       "      <td>ID=CDS:ENSP00000247781;Parent=transcript:ENST0...</td>\n",
       "    </tr>\n",
       "    <tr>\n",
       "      <th>1840357</th>\n",
       "      <td>3</td>\n",
       "      <td>havana</td>\n",
       "      <td>exon</td>\n",
       "      <td>178795142</td>\n",
       "      <td>178795218</td>\n",
       "      <td>.</td>\n",
       "      <td>+</td>\n",
       "      <td>.</td>\n",
       "      <td>Parent=transcript:ENST00000420517;Name=ENSE000...</td>\n",
       "    </tr>\n",
       "    <tr>\n",
       "      <th>1704140</th>\n",
       "      <td>22</td>\n",
       "      <td>havana</td>\n",
       "      <td>exon</td>\n",
       "      <td>50519190</td>\n",
       "      <td>50519320</td>\n",
       "      <td>.</td>\n",
       "      <td>+</td>\n",
       "      <td>.</td>\n",
       "      <td>Parent=transcript:ENST00000420993;Name=ENSE000...</td>\n",
       "    </tr>\n",
       "    <tr>\n",
       "      <th>2000138</th>\n",
       "      <td>5</td>\n",
       "      <td>ensembl</td>\n",
       "      <td>exon</td>\n",
       "      <td>73780676</td>\n",
       "      <td>73780745</td>\n",
       "      <td>.</td>\n",
       "      <td>+</td>\n",
       "      <td>.</td>\n",
       "      <td>Parent=transcript:ENST00000545377;Name=ENSE000...</td>\n",
       "    </tr>\n",
       "    <tr>\n",
       "      <th>617750</th>\n",
       "      <td>12</td>\n",
       "      <td>ensembl_havana</td>\n",
       "      <td>aberrant_processed_transcript</td>\n",
       "      <td>120996390</td>\n",
       "      <td>120997882</td>\n",
       "      <td>.</td>\n",
       "      <td>+</td>\n",
       "      <td>.</td>\n",
       "      <td>ID=transcript:ENST00000543255;Parent=gene:ENSG...</td>\n",
       "    </tr>\n",
       "  </tbody>\n",
       "</table>\n",
       "</div>"
      ],
      "text/plain": [
       "        seqid          source                           type      start  \\\n",
       "1394083     2  ensembl_havana                           exon   38781517   \n",
       "1131521    17          havana                            CDS   75763014   \n",
       "335228     11          havana                           exon     893427   \n",
       "1811626     3          havana                three_prime_UTR  130999518   \n",
       "795321     15  ensembl_havana                            CDS   43605264   \n",
       "2393736     8         ensembl                            CDS  120371152   \n",
       "1840357     3          havana                           exon  178795142   \n",
       "1704140    22          havana                           exon   50519190   \n",
       "2000138     5         ensembl                           exon   73780676   \n",
       "617750     12  ensembl_havana  aberrant_processed_transcript  120996390   \n",
       "\n",
       "               end score strand phase  \\\n",
       "1394083   38785000     .      +     .   \n",
       "1131521   75763149     .      -     2   \n",
       "335228      893519     .      -     .   \n",
       "1811626  130999659     .      +     .   \n",
       "795321    43605399     .      -     1   \n",
       "2393736  120371231     .      +     2   \n",
       "1840357  178795218     .      +     .   \n",
       "1704140   50519320     .      +     .   \n",
       "2000138   73780745     .      +     .   \n",
       "617750   120997882     .      +     .   \n",
       "\n",
       "                                                attributes  \n",
       "1394083  Parent=transcript:ENST00000281950;Name=ENSE000...  \n",
       "1131521  ID=CDS:ENSP00000225614;Parent=transcript:ENST0...  \n",
       "335228   Parent=transcript:ENST00000526714;Name=ENSE000...  \n",
       "1811626                  Parent=transcript:ENST00000507194  \n",
       "795321   ID=CDS:ENSP00000401513;Parent=transcript:ENST0...  \n",
       "2393736  ID=CDS:ENSP00000247781;Parent=transcript:ENST0...  \n",
       "1840357  Parent=transcript:ENST00000420517;Name=ENSE000...  \n",
       "1704140  Parent=transcript:ENST00000420993;Name=ENSE000...  \n",
       "2000138  Parent=transcript:ENST00000545377;Name=ENSE000...  \n",
       "617750   ID=transcript:ENST00000543255;Parent=gene:ENSG...  "
      ]
     },
     "execution_count": 9,
     "metadata": {},
     "output_type": "execute_result"
    }
   ],
   "source": [
    "edf = df[df['source'].isin(['ensembl', 'havana', 'ensembl_havana'])]\n",
    "edf.sample(10)"
   ]
  },
  {
   "cell_type": "raw",
   "metadata": {},
   "source": [
    "edf['type'].value_counts()"
   ]
  },
  {
   "cell_type": "code",
   "execution_count": 12,
   "metadata": {
    "collapsed": false
   },
   "outputs": [
    {
     "data": {
      "text/plain": [
       "array(['ID=transcript:ENST00000374788;Parent=gene:ENSG00000148498;Name=PARD3-003;biotype=protein_coding;ccdsid=CCDS53515.1;havana_transcript=OTTHUMT00000047528;havana_version=1;tag=basic;transcript_id=ENST00000374788;transcript_support_level=1;version=7',\n",
       "       'ID=transcript:ENST00000396595;Parent=gene:ENSG00000064042;Name=LIMCH1-017;biotype=protein_coding;ccdsid=CCDS47047.1;havana_transcript=OTTHUMT00000361478;havana_version=2;tag=basic;transcript_id=ENST00000396595;transcript_support_level=1;version=7',\n",
       "       'ID=transcript:ENST00000366965;Parent=gene:ENSG00000143494;Name=VASH2-005;biotype=protein_coding;ccdsid=CCDS1511.1;havana_transcript=OTTHUMT00000089686;havana_version=3;tag=basic;transcript_id=ENST00000366965;transcript_support_level=1;version=6',\n",
       "       'ID=transcript:ENST00000397912;Parent=gene:ENSG00000128563;Name=PRKRIP1-001;biotype=protein_coding;ccdsid=CCDS34714.1;havana_transcript=OTTHUMT00000349483;havana_version=1;tag=basic;transcript_id=ENST00000397912;transcript_support_level=1;version=3',\n",
       "       'ID=transcript:ENST00000569443;Parent=gene:ENSG00000129993;Name=CBFA2T3-010;biotype=protein_coding;havana_transcript=OTTHUMT00000430669;havana_version=1;transcript_id=ENST00000569443;transcript_support_level=5;version=5',\n",
       "       'ID=transcript:ENST00000582120;Parent=gene:ENSG00000265477;Name=RP11-720L2.2-001;biotype=sense_intronic;havana_transcript=OTTHUMT00000441018;havana_version=1;tag=basic;transcript_id=ENST00000582120;transcript_support_level=3;version=1',\n",
       "       'ID=transcript:ENST00000547055;Parent=gene:ENSG00000127328;Name=RAB3IP-015;biotype=protein_coding;havana_transcript=OTTHUMT00000403920;havana_version=1;transcript_id=ENST00000547055;transcript_support_level=3;version=1',\n",
       "       'ID=transcript:ENST00000416943;Parent=gene:ENSG00000106178;Name=CCL24-002;biotype=protein_coding;ccdsid=CCDS34670.1;havana_transcript=OTTHUMT00000344886;havana_version=1;tag=basic;transcript_id=ENST00000416943;transcript_support_level=1;version=1',\n",
       "       'ID=transcript:ENST00000340208;Parent=gene:ENSG00000081189;Name=MEF2C-005;biotype=protein_coding;ccdsid=CCDS54878.1;havana_transcript=OTTHUMT00000369819;havana_version=2;tag=basic;transcript_id=ENST00000340208;transcript_support_level=1;version=9',\n",
       "       'ID=transcript:ENST00000380582;Parent=gene:ENSG00000120907;Name=ADRA1A-001;biotype=protein_coding;ccdsid=CCDS6052.1;havana_transcript=OTTHUMT00000216927;havana_version=1;tag=basic;transcript_id=ENST00000380582;transcript_support_level=1;version=7'],\n",
       "      dtype=object)"
      ]
     },
     "execution_count": 12,
     "metadata": {},
     "output_type": "execute_result"
    }
   ],
   "source": [
    "ndf = edf[edf['type'] == 'transcript']\n",
    "ndf = ndf.copy()\n",
    "ndf.sample(10)['attributes'].values"
   ]
  },
  {
   "cell_type": "code",
   "execution_count": 13,
   "metadata": {
    "collapsed": true
   },
   "outputs": [],
   "source": [
    "import re"
   ]
  },
  {
   "cell_type": "code",
   "execution_count": 24,
   "metadata": {
    "collapsed": false
   },
   "outputs": [],
   "source": [
    "RE_transcript_ID = re.compile(r'transcript_id=(?P<transcript_name>.+?);')\n",
    "def extract_transcript_name(attributes_str):\n",
    "    res = RE_transcript_ID.search(attributes_str)\n",
    "    return res.group('transcript_name')\n",
    "\n",
    "ndf['transcript_id'] = ndf['attributes'].apply(extract_transcript_name)"
   ]
  },
  {
   "cell_type": "code",
   "execution_count": 25,
   "metadata": {
    "collapsed": false
   },
   "outputs": [
    {
     "data": {
      "text/plain": [
       "78         ENST00000335137\n",
       "122        ENST00000493797\n",
       "126        ENST00000484859\n",
       "129        ENST00000490997\n",
       "167        ENST00000624431\n",
       "176        ENST00000623834\n",
       "198        ENST00000623083\n",
       "222        ENST00000624735\n",
       "379        ENST00000426406\n",
       "492        ENST00000332831\n",
       "532        ENST00000422528\n",
       "824        ENST00000420190\n",
       "840        ENST00000437963\n",
       "852        ENST00000342066\n",
       "883        ENST00000618181\n",
       "908        ENST00000622503\n",
       "939        ENST00000618323\n",
       "966        ENST00000616016\n",
       "995        ENST00000618779\n",
       "1024       ENST00000616125\n",
       "1051       ENST00000620200\n",
       "1072       ENST00000617307\n",
       "1101       ENST00000341065\n",
       "1127       ENST00000455979\n",
       "1241       ENST00000327044\n",
       "1331       ENST00000338591\n",
       "1358       ENST00000622660\n",
       "1415       ENST00000379410\n",
       "1450       ENST00000379409\n",
       "1483       ENST00000379407\n",
       "                ...       \n",
       "2600333    ENST00000382424\n",
       "2600384    ENST00000382431\n",
       "2600429    ENST00000382440\n",
       "2600488    ENST00000382433\n",
       "2600718    ENST00000306882\n",
       "2600725    ENST00000382407\n",
       "2600786    ENST00000624333\n",
       "2600828    ENST00000485099\n",
       "2600853    ENST00000624575\n",
       "2600884    ENST00000602770\n",
       "2600896    ENST00000382392\n",
       "2600926    ENST00000615850\n",
       "2600950    ENST00000315357\n",
       "2600985    ENST00000382365\n",
       "2601026    ENST00000446723\n",
       "2601065    ENST00000415508\n",
       "2601100    ENST00000449750\n",
       "2601137    ENST00000382314\n",
       "2601188    ENST00000382432\n",
       "2601239    ENST00000440066\n",
       "2601284    ENST00000634662\n",
       "2601332    ENST00000382296\n",
       "2601402    ENST00000382287\n",
       "2601432    ENST00000618574\n",
       "2601441    ENST00000602680\n",
       "2601479    ENST00000624491\n",
       "2601527    ENST00000606439\n",
       "2601531    ENST00000623198\n",
       "2601601    ENST00000361963\n",
       "2601606    ENST00000306609\n",
       "Name: transcript_id, Length: 96375, dtype: object"
      ]
     },
     "execution_count": 25,
     "metadata": {},
     "output_type": "execute_result"
    }
   ],
   "source": [
    "ndf['transcript_id']"
   ]
  },
  {
   "cell_type": "code",
   "execution_count": 23,
   "metadata": {
    "collapsed": true
   },
   "outputs": [],
   "source": [
    "RE_GENE_ID = re.compile(r'Parent=gene:(?P<gene_id>ENSG.+?);')\n",
    "def extract_gene_id(attributes_str):\n",
    "    res = RE_GENE_ID.search(attributes_str)\n",
    "    return res.group('gene_id')"
   ]
  },
  {
   "cell_type": "code",
   "execution_count": 26,
   "metadata": {
    "collapsed": true
   },
   "outputs": [],
   "source": [
    "ndf['gene_id'] = ndf['attributes'].apply(extract_gene_id)"
   ]
  },
  {
   "cell_type": "code",
   "execution_count": 27,
   "metadata": {
    "collapsed": false
   },
   "outputs": [
    {
     "data": {
      "text/plain": [
       "78         ENSG00000186092\n",
       "122        ENSG00000239906\n",
       "126        ENSG00000241860\n",
       "129        ENSG00000241860\n",
       "167        ENSG00000279928\n",
       "176        ENSG00000279457\n",
       "198        ENSG00000279457\n",
       "222        ENSG00000279457\n",
       "379        ENSG00000278566\n",
       "492        ENSG00000273547\n",
       "532        ENSG00000229905\n",
       "824        ENSG00000187634\n",
       "840        ENSG00000187634\n",
       "852        ENSG00000187634\n",
       "883        ENSG00000187634\n",
       "908        ENSG00000187634\n",
       "939        ENSG00000187634\n",
       "966        ENSG00000187634\n",
       "995        ENSG00000187634\n",
       "1024       ENSG00000187634\n",
       "1051       ENSG00000187634\n",
       "1072       ENSG00000187634\n",
       "1101       ENSG00000187634\n",
       "1127       ENSG00000187634\n",
       "1241       ENSG00000188976\n",
       "1331       ENSG00000187961\n",
       "1358       ENSG00000187961\n",
       "1415       ENSG00000187583\n",
       "1450       ENSG00000187583\n",
       "1483       ENSG00000187583\n",
       "                ...       \n",
       "2600333    ENSG00000205944\n",
       "2600384    ENSG00000205944\n",
       "2600429    ENSG00000205944\n",
       "2600488    ENSG00000205944\n",
       "2600718    ENSG00000172352\n",
       "2600725    ENSG00000172352\n",
       "2600786    ENSG00000279287\n",
       "2600828    ENSG00000274234\n",
       "2600853    ENSG00000279274\n",
       "2600884    ENSG00000183795\n",
       "2600896    ENSG00000183795\n",
       "2600926    ENSG00000183795\n",
       "2600950    ENSG00000187191\n",
       "2600985    ENSG00000187191\n",
       "2601026    ENSG00000187191\n",
       "2601065    ENSG00000205916\n",
       "2601100    ENSG00000205916\n",
       "2601137    ENSG00000205916\n",
       "2601188    ENSG00000205916\n",
       "2601239    ENSG00000205916\n",
       "2601284    ENSG00000205916\n",
       "2601332    ENSG00000205916\n",
       "2601402    ENSG00000185894\n",
       "2601432    ENSG00000185894\n",
       "2601441    ENSG00000185894\n",
       "2601479    ENSG00000279115\n",
       "2601527    ENSG00000278242\n",
       "2601531    ENSG00000280301\n",
       "2601601    ENSG00000172288\n",
       "2601606    ENSG00000172288\n",
       "Name: gene_id, Length: 96375, dtype: object"
      ]
     },
     "execution_count": 27,
     "metadata": {},
     "output_type": "execute_result"
    }
   ],
   "source": [
    "ndf['gene_id']"
   ]
  },
  {
   "cell_type": "code",
   "execution_count": 28,
   "metadata": {
    "collapsed": false
   },
   "outputs": [
    {
     "data": {
      "text/html": [
       "<div>\n",
       "<style scoped>\n",
       "    .dataframe tbody tr th:only-of-type {\n",
       "        vertical-align: middle;\n",
       "    }\n",
       "\n",
       "    .dataframe tbody tr th {\n",
       "        vertical-align: top;\n",
       "    }\n",
       "\n",
       "    .dataframe thead th {\n",
       "        text-align: right;\n",
       "    }\n",
       "</style>\n",
       "<table border=\"1\" class=\"dataframe\">\n",
       "  <thead>\n",
       "    <tr style=\"text-align: right;\">\n",
       "      <th></th>\n",
       "      <th>seqid</th>\n",
       "      <th>source</th>\n",
       "      <th>type</th>\n",
       "      <th>start</th>\n",
       "      <th>end</th>\n",
       "      <th>score</th>\n",
       "      <th>strand</th>\n",
       "      <th>phase</th>\n",
       "      <th>attributes</th>\n",
       "      <th>transcript_name</th>\n",
       "      <th>transcript_id</th>\n",
       "      <th>gene_id</th>\n",
       "    </tr>\n",
       "  </thead>\n",
       "  <tbody>\n",
       "    <tr>\n",
       "      <th>78</th>\n",
       "      <td>1</td>\n",
       "      <td>ensembl_havana</td>\n",
       "      <td>transcript</td>\n",
       "      <td>69091</td>\n",
       "      <td>70008</td>\n",
       "      <td>.</td>\n",
       "      <td>+</td>\n",
       "      <td>.</td>\n",
       "      <td>ID=transcript:ENST00000335137;Parent=gene:ENSG...</td>\n",
       "      <td>ENST00000335137</td>\n",
       "      <td>ENST00000335137</td>\n",
       "      <td>ENSG00000186092</td>\n",
       "    </tr>\n",
       "    <tr>\n",
       "      <th>122</th>\n",
       "      <td>1</td>\n",
       "      <td>havana</td>\n",
       "      <td>transcript</td>\n",
       "      <td>139790</td>\n",
       "      <td>140339</td>\n",
       "      <td>.</td>\n",
       "      <td>-</td>\n",
       "      <td>.</td>\n",
       "      <td>ID=transcript:ENST00000493797;Parent=gene:ENSG...</td>\n",
       "      <td>ENST00000493797</td>\n",
       "      <td>ENST00000493797</td>\n",
       "      <td>ENSG00000239906</td>\n",
       "    </tr>\n",
       "    <tr>\n",
       "      <th>126</th>\n",
       "      <td>1</td>\n",
       "      <td>havana</td>\n",
       "      <td>transcript</td>\n",
       "      <td>141474</td>\n",
       "      <td>149707</td>\n",
       "      <td>.</td>\n",
       "      <td>-</td>\n",
       "      <td>.</td>\n",
       "      <td>ID=transcript:ENST00000484859;Parent=gene:ENSG...</td>\n",
       "      <td>ENST00000484859</td>\n",
       "      <td>ENST00000484859</td>\n",
       "      <td>ENSG00000241860</td>\n",
       "    </tr>\n",
       "    <tr>\n",
       "      <th>129</th>\n",
       "      <td>1</td>\n",
       "      <td>havana</td>\n",
       "      <td>transcript</td>\n",
       "      <td>142808</td>\n",
       "      <td>146831</td>\n",
       "      <td>.</td>\n",
       "      <td>-</td>\n",
       "      <td>.</td>\n",
       "      <td>ID=transcript:ENST00000490997;Parent=gene:ENSG...</td>\n",
       "      <td>ENST00000490997</td>\n",
       "      <td>ENST00000490997</td>\n",
       "      <td>ENSG00000241860</td>\n",
       "    </tr>\n",
       "    <tr>\n",
       "      <th>167</th>\n",
       "      <td>1</td>\n",
       "      <td>ensembl</td>\n",
       "      <td>transcript</td>\n",
       "      <td>182393</td>\n",
       "      <td>184158</td>\n",
       "      <td>.</td>\n",
       "      <td>+</td>\n",
       "      <td>.</td>\n",
       "      <td>ID=transcript:ENST00000624431;Parent=gene:ENSG...</td>\n",
       "      <td>ENST00000624431</td>\n",
       "      <td>ENST00000624431</td>\n",
       "      <td>ENSG00000279928</td>\n",
       "    </tr>\n",
       "  </tbody>\n",
       "</table>\n",
       "</div>"
      ],
      "text/plain": [
       "    seqid          source        type   start     end score strand phase  \\\n",
       "78      1  ensembl_havana  transcript   69091   70008     .      +     .   \n",
       "122     1          havana  transcript  139790  140339     .      -     .   \n",
       "126     1          havana  transcript  141474  149707     .      -     .   \n",
       "129     1          havana  transcript  142808  146831     .      -     .   \n",
       "167     1         ensembl  transcript  182393  184158     .      +     .   \n",
       "\n",
       "                                            attributes  transcript_name  \\\n",
       "78   ID=transcript:ENST00000335137;Parent=gene:ENSG...  ENST00000335137   \n",
       "122  ID=transcript:ENST00000493797;Parent=gene:ENSG...  ENST00000493797   \n",
       "126  ID=transcript:ENST00000484859;Parent=gene:ENSG...  ENST00000484859   \n",
       "129  ID=transcript:ENST00000490997;Parent=gene:ENSG...  ENST00000490997   \n",
       "167  ID=transcript:ENST00000624431;Parent=gene:ENSG...  ENST00000624431   \n",
       "\n",
       "       transcript_id          gene_id  \n",
       "78   ENST00000335137  ENSG00000186092  \n",
       "122  ENST00000493797  ENSG00000239906  \n",
       "126  ENST00000484859  ENSG00000241860  \n",
       "129  ENST00000490997  ENSG00000241860  \n",
       "167  ENST00000624431  ENSG00000279928  "
      ]
     },
     "execution_count": 28,
     "metadata": {},
     "output_type": "execute_result"
    }
   ],
   "source": [
    "ndf.head()"
   ]
  },
  {
   "cell_type": "code",
   "execution_count": 29,
   "metadata": {
    "collapsed": true
   },
   "outputs": [],
   "source": [
    "ndf.drop('attributes', axis=1, inplace=True)"
   ]
  },
  {
   "cell_type": "code",
   "execution_count": 30,
   "metadata": {
    "collapsed": false
   },
   "outputs": [
    {
     "data": {
      "text/html": [
       "<div>\n",
       "<style scoped>\n",
       "    .dataframe tbody tr th:only-of-type {\n",
       "        vertical-align: middle;\n",
       "    }\n",
       "\n",
       "    .dataframe tbody tr th {\n",
       "        vertical-align: top;\n",
       "    }\n",
       "\n",
       "    .dataframe thead th {\n",
       "        text-align: right;\n",
       "    }\n",
       "</style>\n",
       "<table border=\"1\" class=\"dataframe\">\n",
       "  <thead>\n",
       "    <tr style=\"text-align: right;\">\n",
       "      <th></th>\n",
       "      <th>seqid</th>\n",
       "      <th>source</th>\n",
       "      <th>type</th>\n",
       "      <th>start</th>\n",
       "      <th>end</th>\n",
       "      <th>score</th>\n",
       "      <th>strand</th>\n",
       "      <th>phase</th>\n",
       "      <th>transcript_name</th>\n",
       "      <th>transcript_id</th>\n",
       "      <th>gene_id</th>\n",
       "    </tr>\n",
       "  </thead>\n",
       "  <tbody>\n",
       "    <tr>\n",
       "      <th>78</th>\n",
       "      <td>1</td>\n",
       "      <td>ensembl_havana</td>\n",
       "      <td>transcript</td>\n",
       "      <td>69091</td>\n",
       "      <td>70008</td>\n",
       "      <td>.</td>\n",
       "      <td>+</td>\n",
       "      <td>.</td>\n",
       "      <td>ENST00000335137</td>\n",
       "      <td>ENST00000335137</td>\n",
       "      <td>ENSG00000186092</td>\n",
       "    </tr>\n",
       "    <tr>\n",
       "      <th>122</th>\n",
       "      <td>1</td>\n",
       "      <td>havana</td>\n",
       "      <td>transcript</td>\n",
       "      <td>139790</td>\n",
       "      <td>140339</td>\n",
       "      <td>.</td>\n",
       "      <td>-</td>\n",
       "      <td>.</td>\n",
       "      <td>ENST00000493797</td>\n",
       "      <td>ENST00000493797</td>\n",
       "      <td>ENSG00000239906</td>\n",
       "    </tr>\n",
       "    <tr>\n",
       "      <th>126</th>\n",
       "      <td>1</td>\n",
       "      <td>havana</td>\n",
       "      <td>transcript</td>\n",
       "      <td>141474</td>\n",
       "      <td>149707</td>\n",
       "      <td>.</td>\n",
       "      <td>-</td>\n",
       "      <td>.</td>\n",
       "      <td>ENST00000484859</td>\n",
       "      <td>ENST00000484859</td>\n",
       "      <td>ENSG00000241860</td>\n",
       "    </tr>\n",
       "    <tr>\n",
       "      <th>129</th>\n",
       "      <td>1</td>\n",
       "      <td>havana</td>\n",
       "      <td>transcript</td>\n",
       "      <td>142808</td>\n",
       "      <td>146831</td>\n",
       "      <td>.</td>\n",
       "      <td>-</td>\n",
       "      <td>.</td>\n",
       "      <td>ENST00000490997</td>\n",
       "      <td>ENST00000490997</td>\n",
       "      <td>ENSG00000241860</td>\n",
       "    </tr>\n",
       "    <tr>\n",
       "      <th>167</th>\n",
       "      <td>1</td>\n",
       "      <td>ensembl</td>\n",
       "      <td>transcript</td>\n",
       "      <td>182393</td>\n",
       "      <td>184158</td>\n",
       "      <td>.</td>\n",
       "      <td>+</td>\n",
       "      <td>.</td>\n",
       "      <td>ENST00000624431</td>\n",
       "      <td>ENST00000624431</td>\n",
       "      <td>ENSG00000279928</td>\n",
       "    </tr>\n",
       "  </tbody>\n",
       "</table>\n",
       "</div>"
      ],
      "text/plain": [
       "    seqid          source        type   start     end score strand phase  \\\n",
       "78      1  ensembl_havana  transcript   69091   70008     .      +     .   \n",
       "122     1          havana  transcript  139790  140339     .      -     .   \n",
       "126     1          havana  transcript  141474  149707     .      -     .   \n",
       "129     1          havana  transcript  142808  146831     .      -     .   \n",
       "167     1         ensembl  transcript  182393  184158     .      +     .   \n",
       "\n",
       "     transcript_name    transcript_id          gene_id  \n",
       "78   ENST00000335137  ENST00000335137  ENSG00000186092  \n",
       "122  ENST00000493797  ENST00000493797  ENSG00000239906  \n",
       "126  ENST00000484859  ENST00000484859  ENSG00000241860  \n",
       "129  ENST00000490997  ENST00000490997  ENSG00000241860  \n",
       "167  ENST00000624431  ENST00000624431  ENSG00000279928  "
      ]
     },
     "execution_count": 30,
     "metadata": {},
     "output_type": "execute_result"
    }
   ],
   "source": [
    "ndf.head()"
   ]
  },
  {
   "cell_type": "code",
   "execution_count": 36,
   "metadata": {
    "collapsed": false
   },
   "outputs": [],
   "source": [
    "count_df = ndf.groupby('gene_id').count().loc[:, 'transcript_id']"
   ]
  },
  {
   "cell_type": "code",
   "execution_count": 42,
   "metadata": {
    "collapsed": false
   },
   "outputs": [
    {
     "data": {
      "text/plain": [
       "count    30400.00000\n",
       "mean         3.17023\n",
       "std          3.64185\n",
       "min          1.00000\n",
       "25%          1.00000\n",
       "50%          2.00000\n",
       "75%          4.00000\n",
       "max        167.00000\n",
       "Name: transcript_id, dtype: float64"
      ]
     },
     "execution_count": 42,
     "metadata": {},
     "output_type": "execute_result"
    }
   ],
   "source": [
    "pd.DataFrame(count_df)['transcript_id'].describe()"
   ]
  },
  {
   "cell_type": "code",
   "execution_count": null,
   "metadata": {
    "collapsed": false
   },
   "outputs": [],
   "source": []
  },
  {
   "cell_type": "code",
   "execution_count": null,
   "metadata": {
    "collapsed": true
   },
   "outputs": [],
   "source": []
  },
  {
   "cell_type": "code",
   "execution_count": null,
   "metadata": {
    "collapsed": true
   },
   "outputs": [],
   "source": []
  }
 ],
 "metadata": {
  "anaconda-cloud": {},
  "kernelspec": {
   "display_name": "Python [miniconda3]",
   "language": "python",
   "name": "Python [miniconda3]"
  },
  "language_info": {
   "codemirror_mode": {
    "name": "ipython",
    "version": 3
   },
   "file_extension": ".py",
   "mimetype": "text/x-python",
   "name": "python",
   "nbconvert_exporter": "python",
   "pygments_lexer": "ipython3",
   "version": "3.6.7"
  }
 },
 "nbformat": 4,
 "nbformat_minor": 2
}
