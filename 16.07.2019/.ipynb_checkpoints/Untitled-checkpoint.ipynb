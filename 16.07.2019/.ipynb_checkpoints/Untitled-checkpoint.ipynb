{
 "cells": [
  {
   "cell_type": "code",
   "execution_count": 1,
   "metadata": {
    "collapsed": true
   },
   "outputs": [],
   "source": [
    "# matplotlib is the library in Python to do scientific visualization"
   ]
  },
  {
   "cell_type": "code",
   "execution_count": 2,
   "metadata": {
    "collapsed": true
   },
   "outputs": [],
   "source": [
    "# Let printing work the same in Python 2 and 3\n",
    "from __future__ import print_function"
   ]
  },
  {
   "cell_type": "code",
   "execution_count": 3,
   "metadata": {
    "collapsed": false
   },
   "outputs": [
    {
     "data": {
      "text/plain": [
       "'\\nMatplotilb is a library for producing publication-quality figures. mpl (for short) was designed from the beginning\\nto serve two purposes:\\n\\n1. allow for interacitve, cross-platform control of figures and plots\\n2. make it easy to produce static raster or vector graphics files without the need for any GUIs.\\n\\nFurthermore, mpl -- much like Python itself -- gives the developer complete control over the appearance of their plots, \\nwhile still being very usable through a powerful default system. \\n\\nOnline Documentation\\n\\nmatplotlib.org\\n\\nGallery\\n\\nThere is a gallery that we can use.\\n\\nMailing lists, StackOverflow, and gitter\\n\\nGithub repository\\n\\nLocation\\nMatplotlib is hosted by Github\\n'"
      ]
     },
     "execution_count": 3,
     "metadata": {},
     "output_type": "execute_result"
    }
   ],
   "source": [
    "# Matplotlib\n",
    "# Introduction\n",
    "\n",
    "\"\"\"\n",
    "Matplotilb is a library for producing publication-quality figures. mpl (for short) was designed from the beginning\n",
    "to serve two purposes:\n",
    "\n",
    "1. allow for interacitve, cross-platform control of figures and plots\n",
    "2. make it easy to produce static raster or vector graphics files without the need for any GUIs.\n",
    "\n",
    "Furthermore, mpl -- much like Python itself -- gives the developer complete control over the appearance of their plots, \n",
    "while still being very usable through a powerful default system. \n",
    "\n",
    "Online Documentation\n",
    "\n",
    "matplotlib.org\n",
    "\n",
    "Gallery\n",
    "\n",
    "There is a gallery that we can use.\n",
    "\n",
    "Mailing lists, StackOverflow, and gitter\n",
    "\n",
    "Github repository\n",
    "\n",
    "Location\n",
    "Matplotlib is hosted by Github\n",
    "\"\"\""
   ]
  },
  {
   "cell_type": "code",
   "execution_count": 4,
   "metadata": {
    "collapsed": false
   },
   "outputs": [
    {
     "name": "stdout",
     "output_type": "stream",
     "text": [
      "2.2.2\n",
      "module://ipykernel.pylab.backend_inline\n"
     ]
    }
   ],
   "source": [
    "import matplotlib\n",
    "print(matplotlib.__version__)\n",
    "print(matplotlib.get_backend())"
   ]
  },
  {
   "cell_type": "code",
   "execution_count": 5,
   "metadata": {
    "collapsed": false
   },
   "outputs": [
    {
     "name": "stdout",
     "output_type": "stream",
     "text": [
      "nbAgg\n"
     ]
    }
   ],
   "source": [
    "matplotlib.use('nbagg')\n",
    "print(matplotlib.get_backend())"
   ]
  },
  {
   "cell_type": "code",
   "execution_count": 6,
   "metadata": {
    "collapsed": false
   },
   "outputs": [
    {
     "data": {
      "text/plain": [
       "'\\nYou can also set the backend via an \"ipython magic\" %matplotlib backend_name. In addition to setting the backend, the \\nmagic also calls plt.ion(), which puts Matplotlib in \"interactive mode\" (the inverse is plt.ioff()). In \"interactive\\nmode\" figures are shown (injected into the web page in the notebook) as soon as they are created. Otherwise, figures\\nare not shown until you explicitly call plt.show().\\n\\nIn these tutorials we will mostly work in non-interactive mode for better control of when figures are shown in the \\nnotebooks. This also better mimics the behavior you can expect in regular python scripts.\\n'"
      ]
     },
     "execution_count": 6,
     "metadata": {},
     "output_type": "execute_result"
    }
   ],
   "source": [
    "\"\"\"\n",
    "You can also set the backend via an \"ipython magic\" %matplotlib backend_name. In addition to setting the backend, the \n",
    "magic also calls plt.ion(), which puts Matplotlib in \"interactive mode\" (the inverse is plt.ioff()). In \"interactive\n",
    "mode\" figures are shown (injected into the web page in the notebook) as soon as they are created. Otherwise, figures\n",
    "are not shown until you explicitly call plt.show().\n",
    "\n",
    "In these tutorials we will mostly work in non-interactive mode for better control of when figures are shown in the \n",
    "notebooks. This also better mimics the behavior you can expect in regular python scripts.\n",
    "\"\"\""
   ]
  },
  {
   "cell_type": "code",
   "execution_count": null,
   "metadata": {
    "collapsed": true
   },
   "outputs": [],
   "source": []
  }
 ],
 "metadata": {
  "anaconda-cloud": {},
  "kernelspec": {
   "display_name": "Python [miniconda3]",
   "language": "python",
   "name": "Python [miniconda3]"
  },
  "language_info": {
   "codemirror_mode": {
    "name": "ipython",
    "version": 3
   },
   "file_extension": ".py",
   "mimetype": "text/x-python",
   "name": "python",
   "nbconvert_exporter": "python",
   "pygments_lexer": "ipython3",
   "version": "3.6.7"
  }
 },
 "nbformat": 4,
 "nbformat_minor": 2
}
